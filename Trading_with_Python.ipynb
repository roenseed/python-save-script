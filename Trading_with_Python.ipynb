{
  "nbformat": 4,
  "nbformat_minor": 0,
  "metadata": {
    "colab": {
      "provenance": [],
      "include_colab_link": true
    },
    "kernelspec": {
      "name": "python3",
      "display_name": "Python 3"
    },
    "language_info": {
      "name": "python"
    }
  },
  "cells": [
    {
      "cell_type": "markdown",
      "metadata": {
        "id": "view-in-github",
        "colab_type": "text"
      },
      "source": [
        "<a href=\"https://colab.research.google.com/github/roenseed/python-save-script/blob/main/Trading_with_Python.ipynb\" target=\"_parent\"><img src=\"https://colab.research.google.com/assets/colab-badge.svg\" alt=\"Open In Colab\"/></a>"
      ]
    },
    {
      "cell_type": "markdown",
      "source": [
        "**Install Settrade SDK** <br>\n",
        "ถ้ารันบน Colab ต้องรันใหม่ทุกครั้ง แต่ถ้าลงบนเครื่องผ่าน cmd ทำแค่ทีเดียว"
      ],
      "metadata": {
        "id": "rFhc849C9Zut"
      }
    },
    {
      "cell_type": "code",
      "execution_count": null,
      "metadata": {
        "colab": {
          "base_uri": "https://localhost:8080/"
        },
        "id": "tGXT0yAtvVCB",
        "outputId": "f80b8128-71c0-4c08-e755-fa0e08fe2de5"
      },
      "outputs": [
        {
          "output_type": "stream",
          "name": "stdout",
          "text": [
            "Looking in indexes: https://pypi.org/simple, https://us-python.pkg.dev/colab-wheels/public/simple/\n",
            "Collecting settrade\n",
            "  Downloading settrade-0.5.0.tar.gz (95.6 MB)\n",
            "\u001b[K     |████████████████████████████████| 95.6 MB 44 kB/s \n",
            "\u001b[?25hRequirement already satisfied: numpy in /usr/local/lib/python3.7/dist-packages (from settrade) (1.21.6)\n",
            "Building wheels for collected packages: settrade\n",
            "  Building wheel for settrade (setup.py) ... \u001b[?25l\u001b[?25hdone\n",
            "  Created wheel for settrade: filename=settrade-0.5.0-py3-none-any.whl size=5058070 sha256=5695e453181757ffcc4db52f299d55aa1d6723fc93aed55a17179c1263a93850\n",
            "  Stored in directory: /root/.cache/pip/wheels/1d/c9/b8/b82bf42b1de56957a7916cecd1416a65350900cc3967401177\n",
            "Successfully built settrade\n",
            "Installing collected packages: settrade\n",
            "Successfully installed settrade-0.5.0\n"
          ]
        }
      ],
      "source": [
        "!pip install settrade"
      ]
    },
    {
      "cell_type": "markdown",
      "source": [
        "**Import Library and Setup Account** <br>\n",
        "นำข้อมูล Account ของตัวเองมาใส่เพื่อให้ API สามารถใช้งานได้ <br>\n",
        "แล้วทำการ setting ตัวแทนการใช้งานโดย <br>\n",
        "\n",
        "1.  deri จะใช้แทนการเรียก derivative account\n",
        "2.  equity จะใช้แทนการเรียก equity account\n",
        "3.  market จะใช้แทนการเรียก market data\n",
        "\n"
      ],
      "metadata": {
        "id": "XiZDysOK9qxt"
      }
    },
    {
      "cell_type": "code",
      "source": [
        "import settrade.openapi\n",
        "from settrade.openapi import Investor\n",
        "import pandas as pd\n",
        "import datetime\n",
        "\n",
        "investor = Investor(\n",
        "    app_id=\"bLtvsMNJAVh5bWA1\",  # Your app ID\n",
        "    app_secret=\"AI+i3v2PoiTpF7XAT2Uo2T6OMObbxkjwvT27HyY79uTT\",  # Your app Secret\n",
        "    broker_id=\"SANDBOX\",\n",
        "    app_code=\"SANDBOX\",\n",
        "    is_auto_queue=True,\n",
        ")\n",
        "\n",
        "\n",
        "deri = investor.Derivatives(account_no=\"Finnize-D\")  # Your account number\n",
        "equity = investor.Equity(account_no=\"Finnize-E\")\n",
        "market = investor.MarketData()"
      ],
      "metadata": {
        "id": "v0YtvzpgS6ZA"
      },
      "execution_count": null,
      "outputs": []
    },
    {
      "cell_type": "markdown",
      "source": [
        "**Get data from derivative account info** <br>\n",
        "วิธีการดึง data มาดู"
      ],
      "metadata": {
        "id": "8f6glN1L-AxX"
      }
    },
    {
      "cell_type": "code",
      "source": [
        "deri_account_info = deri.get_account_info()\n",
        "\n",
        "deri_account_info"
      ],
      "metadata": {
        "colab": {
          "base_uri": "https://localhost:8080/"
        },
        "id": "fV-fz0d4UpW2",
        "outputId": "bc4e5093-31b0-4f7f-bfd4-cf97794461bb"
      },
      "execution_count": null,
      "outputs": [
        {
          "output_type": "execute_result",
          "data": {
            "text/plain": [
              "{'success': True,\n",
              " 'status_code': 200,\n",
              " 'data': {'call_force_flag': 'No',\n",
              "  'call_force_margin': 0.0,\n",
              "  'cash_balance': 100000000.0,\n",
              "  'credit_line': 99895000.0,\n",
              "  'equity': 100000000.0,\n",
              "  'excess_equity': 99895000.0,\n",
              "  'total_mm': 105000.0,\n",
              "  'total_mr': 105000.0},\n",
              " 'message': ''}"
            ]
          },
          "metadata": {},
          "execution_count": 43
        }
      ]
    },
    {
      "cell_type": "markdown",
      "source": [
        "**Get data from equity account info**"
      ],
      "metadata": {
        "id": "yiL_R5Pu-PM-"
      }
    },
    {
      "cell_type": "code",
      "source": [
        "equity_account_info = equity.get_account_info()\n",
        "equity_account_info"
      ],
      "metadata": {
        "colab": {
          "base_uri": "https://localhost:8080/"
        },
        "id": "sXIP51m1ibLv",
        "outputId": "617d350d-ffa0-42a8-dc5f-740bd30dc275"
      },
      "execution_count": null,
      "outputs": [
        {
          "output_type": "execute_result",
          "data": {
            "text/plain": [
              "{'success': True,\n",
              " 'status_code': 200,\n",
              " 'data': {'account_type': 'CASH_ACCOUNT',\n",
              "  'additional_data': 0.0,\n",
              "  'can_buy': True,\n",
              "  'can_sell': True,\n",
              "  'cash_balance': 10000000.0,\n",
              "  'client_type': 'INDIVIDUAL',\n",
              "  'credit_balance': False,\n",
              "  'credit_limit': 10000000.0,\n",
              "  'customer_type': 'CUSTOMER',\n",
              "  'initial_cash_balance': 10000000.0,\n",
              "  'initial_credit_limit': 10000000.0,\n",
              "  'initial_line_available': 10000000.0,\n",
              "  'line_available': 9389435.0,\n",
              "  'net_settlement_line': 0.0},\n",
              " 'message': ''}"
            ]
          },
          "metadata": {},
          "execution_count": 4
        }
      ]
    },
    {
      "cell_type": "code",
      "source": [
        "print('Line available is' , equity_account_info['data']['line_available'])"
      ],
      "metadata": {
        "colab": {
          "base_uri": "https://localhost:8080/"
        },
        "id": "aqU7MvG0i_Fg",
        "outputId": "8a9ecc66-1764-404c-f3b5-23bdee079ae2"
      },
      "execution_count": null,
      "outputs": [
        {
          "output_type": "stream",
          "name": "stdout",
          "text": [
            "Line available is 9389435.0\n"
          ]
        }
      ]
    },
    {
      "cell_type": "markdown",
      "source": [
        "**Place order** <br>\n",
        "การส่งคำสั่งเข้าตลาด และดึง order no มาเก็บไว้\n"
      ],
      "metadata": {
        "id": "PDbX3mA2-y-u"
      }
    },
    {
      "cell_type": "code",
      "source": [
        "place_order = deri.place_order(\n",
        "    symbol=\"GOZ22\",\n",
        "    price=1900,\n",
        "    volume=1,\n",
        "    side=\"LONG\",\n",
        "    position=\"OPEN\",\n",
        "    pin=\"000000\")\n",
        "\n",
        "place_order"
      ],
      "metadata": {
        "colab": {
          "base_uri": "https://localhost:8080/"
        },
        "id": "-dAc60E2lGyI",
        "outputId": "35ea578b-fd3d-40a9-b29e-a8aa9c66e9a7"
      },
      "execution_count": null,
      "outputs": [
        {
          "output_type": "execute_result",
          "data": {
            "text/plain": [
              "{'success': False,\n",
              " 'status_code': 400,\n",
              " 'data': {},\n",
              " 'message': '{\"message\":\"O001: Not allow to trade during this time\",\"code\":\"GWD-01\"}'}"
            ]
          },
          "metadata": {},
          "execution_count": 44
        }
      ]
    },
    {
      "cell_type": "markdown",
      "source": [
        "ตลาด TFEX order no จะเป็นตัวเลข"
      ],
      "metadata": {
        "id": "N2VZwrYxCjmy"
      }
    },
    {
      "cell_type": "code",
      "source": [
        "order_no = place_order['data']['order_no']\n",
        "print('Order no is' , order_no)"
      ],
      "metadata": {
        "colab": {
          "base_uri": "https://localhost:8080/"
        },
        "id": "Rj9gy_YDmx3S",
        "outputId": "1c3571f5-acfe-4a5c-c89d-7d74facffa0d"
      },
      "execution_count": null,
      "outputs": [
        {
          "output_type": "stream",
          "name": "stdout",
          "text": [
            "Order no is 98215\n"
          ]
        }
      ]
    },
    {
      "cell_type": "code",
      "source": [
        "place_order = equity.place_order(\n",
        "    symbol=\"AOT\",\n",
        "    price=70,\n",
        "    volume=100,\n",
        "    side=\"BUY\",\n",
        "    pin=\"000000\",\n",
        "    bypass_warning = True)\n",
        "\n",
        "place_order"
      ],
      "metadata": {
        "colab": {
          "base_uri": "https://localhost:8080/"
        },
        "id": "0fO1-8xkBCXY",
        "outputId": "d6efc37b-d595-4331-e7a6-5f38c21f2924"
      },
      "execution_count": null,
      "outputs": [
        {
          "output_type": "execute_result",
          "data": {
            "text/plain": [
              "{'success': True,\n",
              " 'status_code': 200,\n",
              " 'data': {'order_no': '2YEGCQL8IP'},\n",
              " 'message': ''}"
            ]
          },
          "metadata": {},
          "execution_count": 45
        }
      ]
    },
    {
      "cell_type": "markdown",
      "source": [
        "ตลาด หุ้น order no จะเป็น string หรือตัวอักษร"
      ],
      "metadata": {
        "id": "lRwAitseCtUA"
      }
    },
    {
      "cell_type": "code",
      "source": [
        "order_no = place_order['data']['order_no']\n",
        "print('Order no is' , order_no)"
      ],
      "metadata": {
        "colab": {
          "base_uri": "https://localhost:8080/"
        },
        "id": "1I-aETtdvuKT",
        "outputId": "3c228861-e6c7-46f7-a37f-4aaeca4877e4"
      },
      "execution_count": null,
      "outputs": [
        {
          "output_type": "stream",
          "name": "stdout",
          "text": [
            "Order no is 2YECJMASF5\n"
          ]
        }
      ]
    },
    {
      "cell_type": "markdown",
      "source": [
        "**Cancel order** <br>\n",
        "วิธีการยกเลิกคำสั่งซื้อขายที่ส่งไปแล้วแต่ยังไม่ matched"
      ],
      "metadata": {
        "id": "txVU87rtGzWa"
      }
    },
    {
      "cell_type": "code",
      "source": [
        "cancel_order = equity.cancel_order(order_no=\"2YE2IEQC6X\", pin=\"000000\")\n",
        "\n",
        "cancel_order"
      ],
      "metadata": {
        "colab": {
          "base_uri": "https://localhost:8080/"
        },
        "id": "v6WTlka3G_m6",
        "outputId": "b10412ec-235d-4faa-b4e0-3dad2ef2197c"
      },
      "execution_count": null,
      "outputs": [
        {
          "output_type": "execute_result",
          "data": {
            "text/plain": [
              "{'success': False,\n",
              " 'status_code': 400,\n",
              " 'data': {},\n",
              " 'message': '{\"message\":\"Invalid Order state\",\"code\":\"SEOSGW-01\"}'}"
            ]
          },
          "metadata": {},
          "execution_count": 10
        }
      ]
    },
    {
      "cell_type": "markdown",
      "source": [
        "**Get Market Data** <br>\n",
        "การดึงข้อมูลย้อน historical data ถ้าใช้ใน SANDBOX ข้อมูลจะไม่ตรงกับของจริง <br>\n",
        "ส่วนการดึงข้อมูล realtime ไม่สามารถใช้บน Colab ได้"
      ],
      "metadata": {
        "id": "zddn4UbDHM4K"
      }
    },
    {
      "cell_type": "code",
      "source": [
        "ChartDataResponse = market.get_candlestick(\"GOZ22\",\"1d\",10,\"2022-09-16T00:00:00\",\"2023-01-01T00:00:00\",True)\n",
        "hist_data = pd.DataFrame(ChartDataResponse['data'])\n",
        "hist_data['time'] = pd.to_datetime(hist_data['time'],unit='s')\n",
        "hist_data"
      ],
      "metadata": {
        "colab": {
          "base_uri": "https://localhost:8080/",
          "height": 363
        },
        "id": "Jts8h0SLghLO",
        "outputId": "8b294a23-9801-4ee5-c74c-c59008739acb"
      },
      "execution_count": null,
      "outputs": [
        {
          "output_type": "execute_result",
          "data": {
            "text/plain": [
              "   last_sequence                time    open    high     low   close  volume\n",
              "0              0 2022-09-15 17:00:00  1710.5  1715.9  1677.5  1683.0   24175\n",
              "1              0 2022-09-18 17:00:00  1688.3  1702.8  1681.1  1685.8   18778\n",
              "2              0 2022-09-19 17:00:00  1684.1  1699.4  1683.9  1689.0    9383\n",
              "3              0 2022-09-20 17:00:00  1689.8  1696.1  1682.5  1695.9   10789\n",
              "4              0 2022-09-21 17:00:00  1696.7  1710.0  1676.1  1690.5   29726\n",
              "5              0 2022-09-22 17:00:00  1690.9  1706.1  1674.3  1676.5   24641\n",
              "6              0 2022-09-25 17:00:00  1670.0  1679.8  1657.0  1664.7   24828\n",
              "7              0 2022-09-26 17:00:00  1662.2  1669.9  1645.0  1655.1   24837\n",
              "8              0 2022-09-27 17:00:00  1662.3  1662.5  1637.2  1639.0   29605\n",
              "9              0 2022-09-28 17:00:00  1645.3  1680.8  1644.7  1669.3   54433"
            ],
            "text/html": [
              "\n",
              "  <div id=\"df-23fcd873-6569-4951-bb96-5ec8213f74a6\">\n",
              "    <div class=\"colab-df-container\">\n",
              "      <div>\n",
              "<style scoped>\n",
              "    .dataframe tbody tr th:only-of-type {\n",
              "        vertical-align: middle;\n",
              "    }\n",
              "\n",
              "    .dataframe tbody tr th {\n",
              "        vertical-align: top;\n",
              "    }\n",
              "\n",
              "    .dataframe thead th {\n",
              "        text-align: right;\n",
              "    }\n",
              "</style>\n",
              "<table border=\"1\" class=\"dataframe\">\n",
              "  <thead>\n",
              "    <tr style=\"text-align: right;\">\n",
              "      <th></th>\n",
              "      <th>last_sequence</th>\n",
              "      <th>time</th>\n",
              "      <th>open</th>\n",
              "      <th>high</th>\n",
              "      <th>low</th>\n",
              "      <th>close</th>\n",
              "      <th>volume</th>\n",
              "    </tr>\n",
              "  </thead>\n",
              "  <tbody>\n",
              "    <tr>\n",
              "      <th>0</th>\n",
              "      <td>0</td>\n",
              "      <td>2022-09-15 17:00:00</td>\n",
              "      <td>1710.5</td>\n",
              "      <td>1715.9</td>\n",
              "      <td>1677.5</td>\n",
              "      <td>1683.0</td>\n",
              "      <td>24175</td>\n",
              "    </tr>\n",
              "    <tr>\n",
              "      <th>1</th>\n",
              "      <td>0</td>\n",
              "      <td>2022-09-18 17:00:00</td>\n",
              "      <td>1688.3</td>\n",
              "      <td>1702.8</td>\n",
              "      <td>1681.1</td>\n",
              "      <td>1685.8</td>\n",
              "      <td>18778</td>\n",
              "    </tr>\n",
              "    <tr>\n",
              "      <th>2</th>\n",
              "      <td>0</td>\n",
              "      <td>2022-09-19 17:00:00</td>\n",
              "      <td>1684.1</td>\n",
              "      <td>1699.4</td>\n",
              "      <td>1683.9</td>\n",
              "      <td>1689.0</td>\n",
              "      <td>9383</td>\n",
              "    </tr>\n",
              "    <tr>\n",
              "      <th>3</th>\n",
              "      <td>0</td>\n",
              "      <td>2022-09-20 17:00:00</td>\n",
              "      <td>1689.8</td>\n",
              "      <td>1696.1</td>\n",
              "      <td>1682.5</td>\n",
              "      <td>1695.9</td>\n",
              "      <td>10789</td>\n",
              "    </tr>\n",
              "    <tr>\n",
              "      <th>4</th>\n",
              "      <td>0</td>\n",
              "      <td>2022-09-21 17:00:00</td>\n",
              "      <td>1696.7</td>\n",
              "      <td>1710.0</td>\n",
              "      <td>1676.1</td>\n",
              "      <td>1690.5</td>\n",
              "      <td>29726</td>\n",
              "    </tr>\n",
              "    <tr>\n",
              "      <th>5</th>\n",
              "      <td>0</td>\n",
              "      <td>2022-09-22 17:00:00</td>\n",
              "      <td>1690.9</td>\n",
              "      <td>1706.1</td>\n",
              "      <td>1674.3</td>\n",
              "      <td>1676.5</td>\n",
              "      <td>24641</td>\n",
              "    </tr>\n",
              "    <tr>\n",
              "      <th>6</th>\n",
              "      <td>0</td>\n",
              "      <td>2022-09-25 17:00:00</td>\n",
              "      <td>1670.0</td>\n",
              "      <td>1679.8</td>\n",
              "      <td>1657.0</td>\n",
              "      <td>1664.7</td>\n",
              "      <td>24828</td>\n",
              "    </tr>\n",
              "    <tr>\n",
              "      <th>7</th>\n",
              "      <td>0</td>\n",
              "      <td>2022-09-26 17:00:00</td>\n",
              "      <td>1662.2</td>\n",
              "      <td>1669.9</td>\n",
              "      <td>1645.0</td>\n",
              "      <td>1655.1</td>\n",
              "      <td>24837</td>\n",
              "    </tr>\n",
              "    <tr>\n",
              "      <th>8</th>\n",
              "      <td>0</td>\n",
              "      <td>2022-09-27 17:00:00</td>\n",
              "      <td>1662.3</td>\n",
              "      <td>1662.5</td>\n",
              "      <td>1637.2</td>\n",
              "      <td>1639.0</td>\n",
              "      <td>29605</td>\n",
              "    </tr>\n",
              "    <tr>\n",
              "      <th>9</th>\n",
              "      <td>0</td>\n",
              "      <td>2022-09-28 17:00:00</td>\n",
              "      <td>1645.3</td>\n",
              "      <td>1680.8</td>\n",
              "      <td>1644.7</td>\n",
              "      <td>1669.3</td>\n",
              "      <td>54433</td>\n",
              "    </tr>\n",
              "  </tbody>\n",
              "</table>\n",
              "</div>\n",
              "      <button class=\"colab-df-convert\" onclick=\"convertToInteractive('df-23fcd873-6569-4951-bb96-5ec8213f74a6')\"\n",
              "              title=\"Convert this dataframe to an interactive table.\"\n",
              "              style=\"display:none;\">\n",
              "        \n",
              "  <svg xmlns=\"http://www.w3.org/2000/svg\" height=\"24px\"viewBox=\"0 0 24 24\"\n",
              "       width=\"24px\">\n",
              "    <path d=\"M0 0h24v24H0V0z\" fill=\"none\"/>\n",
              "    <path d=\"M18.56 5.44l.94 2.06.94-2.06 2.06-.94-2.06-.94-.94-2.06-.94 2.06-2.06.94zm-11 1L8.5 8.5l.94-2.06 2.06-.94-2.06-.94L8.5 2.5l-.94 2.06-2.06.94zm10 10l.94 2.06.94-2.06 2.06-.94-2.06-.94-.94-2.06-.94 2.06-2.06.94z\"/><path d=\"M17.41 7.96l-1.37-1.37c-.4-.4-.92-.59-1.43-.59-.52 0-1.04.2-1.43.59L10.3 9.45l-7.72 7.72c-.78.78-.78 2.05 0 2.83L4 21.41c.39.39.9.59 1.41.59.51 0 1.02-.2 1.41-.59l7.78-7.78 2.81-2.81c.8-.78.8-2.07 0-2.86zM5.41 20L4 18.59l7.72-7.72 1.47 1.35L5.41 20z\"/>\n",
              "  </svg>\n",
              "      </button>\n",
              "      \n",
              "  <style>\n",
              "    .colab-df-container {\n",
              "      display:flex;\n",
              "      flex-wrap:wrap;\n",
              "      gap: 12px;\n",
              "    }\n",
              "\n",
              "    .colab-df-convert {\n",
              "      background-color: #E8F0FE;\n",
              "      border: none;\n",
              "      border-radius: 50%;\n",
              "      cursor: pointer;\n",
              "      display: none;\n",
              "      fill: #1967D2;\n",
              "      height: 32px;\n",
              "      padding: 0 0 0 0;\n",
              "      width: 32px;\n",
              "    }\n",
              "\n",
              "    .colab-df-convert:hover {\n",
              "      background-color: #E2EBFA;\n",
              "      box-shadow: 0px 1px 2px rgba(60, 64, 67, 0.3), 0px 1px 3px 1px rgba(60, 64, 67, 0.15);\n",
              "      fill: #174EA6;\n",
              "    }\n",
              "\n",
              "    [theme=dark] .colab-df-convert {\n",
              "      background-color: #3B4455;\n",
              "      fill: #D2E3FC;\n",
              "    }\n",
              "\n",
              "    [theme=dark] .colab-df-convert:hover {\n",
              "      background-color: #434B5C;\n",
              "      box-shadow: 0px 1px 3px 1px rgba(0, 0, 0, 0.15);\n",
              "      filter: drop-shadow(0px 1px 2px rgba(0, 0, 0, 0.3));\n",
              "      fill: #FFFFFF;\n",
              "    }\n",
              "  </style>\n",
              "\n",
              "      <script>\n",
              "        const buttonEl =\n",
              "          document.querySelector('#df-23fcd873-6569-4951-bb96-5ec8213f74a6 button.colab-df-convert');\n",
              "        buttonEl.style.display =\n",
              "          google.colab.kernel.accessAllowed ? 'block' : 'none';\n",
              "\n",
              "        async function convertToInteractive(key) {\n",
              "          const element = document.querySelector('#df-23fcd873-6569-4951-bb96-5ec8213f74a6');\n",
              "          const dataTable =\n",
              "            await google.colab.kernel.invokeFunction('convertToInteractive',\n",
              "                                                     [key], {});\n",
              "          if (!dataTable) return;\n",
              "\n",
              "          const docLinkHtml = 'Like what you see? Visit the ' +\n",
              "            '<a target=\"_blank\" href=https://colab.research.google.com/notebooks/data_table.ipynb>data table notebook</a>'\n",
              "            + ' to learn more about interactive tables.';\n",
              "          element.innerHTML = '';\n",
              "          dataTable['output_type'] = 'display_data';\n",
              "          await google.colab.output.renderOutput(dataTable, element);\n",
              "          const docLink = document.createElement('div');\n",
              "          docLink.innerHTML = docLinkHtml;\n",
              "          element.appendChild(docLink);\n",
              "        }\n",
              "      </script>\n",
              "    </div>\n",
              "  </div>\n",
              "  "
            ]
          },
          "metadata": {},
          "execution_count": 11
        }
      ]
    },
    {
      "cell_type": "markdown",
      "source": [
        "**Build Strategy** <br>\n",
        "วิธีการสร้าง strategy และ screening หุ้น ด้วย library ezyquant\n"
      ],
      "metadata": {
        "id": "7FETegmPLZpF"
      }
    },
    {
      "cell_type": "code",
      "source": [
        "!pip install ezyquant"
      ],
      "metadata": {
        "colab": {
          "base_uri": "https://localhost:8080/"
        },
        "id": "Km56DppKMN1G",
        "outputId": "8de0652d-748d-45ad-cb68-67e0ef07e480"
      },
      "execution_count": null,
      "outputs": [
        {
          "output_type": "stream",
          "name": "stdout",
          "text": [
            "Looking in indexes: https://pypi.org/simple, https://us-python.pkg.dev/colab-wheels/public/simple/\n",
            "Requirement already satisfied: ezyquant in /usr/local/lib/python3.7/dist-packages (0.1.7)\n",
            "Requirement already satisfied: XlsxWriter>=3.0 in /usr/local/lib/python3.7/dist-packages (from ezyquant) (3.0.3)\n",
            "Requirement already satisfied: pandas>=1.3 in /usr/local/lib/python3.7/dist-packages (from ezyquant) (1.3.5)\n",
            "Requirement already satisfied: sqlalchemy>=1.4 in /usr/local/lib/python3.7/dist-packages (from ezyquant) (1.4.41)\n",
            "Requirement already satisfied: ta>=0.10 in /usr/local/lib/python3.7/dist-packages (from ezyquant) (0.10.2)\n",
            "Requirement already satisfied: numpy>=1.17.3 in /usr/local/lib/python3.7/dist-packages (from pandas>=1.3->ezyquant) (1.21.6)\n",
            "Requirement already satisfied: python-dateutil>=2.7.3 in /usr/local/lib/python3.7/dist-packages (from pandas>=1.3->ezyquant) (2.8.2)\n",
            "Requirement already satisfied: pytz>=2017.3 in /usr/local/lib/python3.7/dist-packages (from pandas>=1.3->ezyquant) (2022.4)\n",
            "Requirement already satisfied: six>=1.5 in /usr/local/lib/python3.7/dist-packages (from python-dateutil>=2.7.3->pandas>=1.3->ezyquant) (1.15.0)\n",
            "Requirement already satisfied: importlib-metadata in /usr/local/lib/python3.7/dist-packages (from sqlalchemy>=1.4->ezyquant) (4.13.0)\n",
            "Requirement already satisfied: greenlet!=0.4.17 in /usr/local/lib/python3.7/dist-packages (from sqlalchemy>=1.4->ezyquant) (1.1.3.post0)\n",
            "Requirement already satisfied: typing-extensions>=3.6.4 in /usr/local/lib/python3.7/dist-packages (from importlib-metadata->sqlalchemy>=1.4->ezyquant) (4.1.1)\n",
            "Requirement already satisfied: zipp>=0.5 in /usr/local/lib/python3.7/dist-packages (from importlib-metadata->sqlalchemy>=1.4->ezyquant) (3.9.0)\n"
          ]
        }
      ]
    },
    {
      "cell_type": "code",
      "source": [
        "import numpy as np\n",
        "import ezyquant as ez\n",
        "from ezyquant.backtesting import Context\n",
        "import matplotlib.pyplot as plt\n",
        "import pandas as pd\n",
        "import seaborn as sns\n",
        "\n",
        "model_name = \"Template\"\n",
        "\n",
        "# Connect Database\n",
        "from google.colab import drive\n",
        "\n",
        "drive.mount(\"/content/drive\")\n",
        "database_path = \"/content/drive/MyDrive/DB/ezyquant.db\"\n",
        "ez.connect_sqlite(database_path)\n",
        "\n",
        "# Pull Data\n",
        "start_date = \"2018-01-01\"\n",
        "end_date = \"2022-05-30\"\n",
        "ssc = ez.SETSignalCreator(\n",
        "    start_date=start_date,\n",
        "    end_date=end_date,\n",
        "    index_list=[],\n",
        "    symbol_list=[\"COM7\", \"HANA\", \"EA\", \"GULF\", \"PTTEP\", \"KTB\"],\n",
        ")\n",
        "\n",
        "# Create Signal\n",
        "df_close = ssc.get_data(\"close\", \"daily\")\n",
        "ema20 = ssc.ta.ema(df_close, 20)\n",
        "ema100 = ssc.ta.ema(df_close, 100)\n",
        "signal_df = ema20 > ema100\n",
        "\n",
        "# Backtest Algorithm\n",
        "def backtest_algorithm(c: Context):\n",
        "    if c.symbol == \"AOT\":\n",
        "        print(\"----------------------\" + str(c.ts) + \"------------------\")\n",
        "\n",
        "    adj_volume = 100 * round(c.target_pct_port(0.2) / 100, 0)\n",
        "    sell_volume = 100 * round(c.target_pct_port(0) / 100, 0)\n",
        "\n",
        "    if c.signal == True:\n",
        "        return c.target_pct_port(0.25)\n",
        "    else:\n",
        "        return c.target_pct_port(0)"
      ],
      "metadata": {
        "colab": {
          "base_uri": "https://localhost:8080/"
        },
        "id": "XkuHnvGzMieH",
        "outputId": "f93abd7f-d86c-44ad-e033-a59e10943d82"
      },
      "execution_count": null,
      "outputs": [
        {
          "output_type": "stream",
          "name": "stdout",
          "text": [
            "Drive already mounted at /content/drive; to attempt to forcibly remount, call drive.mount(\"/content/drive\", force_remount=True).\n"
          ]
        }
      ]
    },
    {
      "cell_type": "code",
      "source": [
        "result = ez.backtest(\n",
        "    signal_df=signal_df,\n",
        "    backtest_algorithm=backtest_algorithm,\n",
        "    start_date=start_date,\n",
        "    end_date=end_date,\n",
        "    initial_cash=1e6,\n",
        "    pct_commission=0.25,\n",
        "    pct_buy_slip=0.0,\n",
        "    pct_sell_slip=0.0,\n",
        "    price_match_mode=\"weighted\",\n",
        "    signal_delay_bar=1,\n",
        ")"
      ],
      "metadata": {
        "id": "nrXMHZKKNL73"
      },
      "execution_count": null,
      "outputs": []
    },
    {
      "cell_type": "code",
      "source": [
        "# Show Result\n",
        "\n",
        "print(\"CAGR:\" + str(round(result.cagr[\"portfolio_with_dividend\"] * 100, 2)) + \"%\")\n",
        "result.summary_df.plot.line(x=\"timestamp\", y=\"port_value_with_dividend\", color=\"grey\")\n",
        "print(\n",
        "    \"MaxDD:\"\n",
        "    + str(round(result.pct_maximum_drawdown[\"portfolio_with_dividend\"] * 100, 2))\n",
        "    + \"%\"\n",
        ")\n",
        "result.drawdown_percent_df.plot.area(y=\"portfolio_with_dividend\", color=\"red\")\n",
        "print(\"Win rate:\" + str(round(result.pct_win_per_trade * 100, 2)) + \"%\")\n",
        "fig, ax = plt.subplots()\n",
        "N, bins, patches = ax.hist(\n",
        "    result.summary_trade_df[\"pct_return\"] * 100, edgecolor=\"white\", linewidth=1, bins=30\n",
        ")\n",
        "\n",
        "for i in range(0, len(patches)):\n",
        "    if patches[i].xy[0] <= 0:\n",
        "        patches[i].set_facecolor(\"red\")\n",
        "    else:\n",
        "        patches[i].set_facecolor(\"green\")\n",
        "\n",
        "return_table = (result.monthly_return_df.loc[\"portfolio\"]).replace(np.nan, 0)\n",
        "f, ax = plt.subplots(figsize=(20, 6))\n",
        "sns.heatmap(\n",
        "    return_table,\n",
        "    annot=True,\n",
        "    fmt=\".1%\",\n",
        "    linewidths=0.5,\n",
        "    ax=ax,\n",
        "    cmap=\"PiYG\",\n",
        "    vmin=-0.1,\n",
        "    vmax=0.1,\n",
        ")"
      ],
      "metadata": {
        "id": "Hq27giAJNQO2",
        "colab": {
          "base_uri": "https://localhost:8080/",
          "height": 1000
        },
        "outputId": "b4b5ee2d-6e42-4167-e47e-59efc67b756d"
      },
      "execution_count": null,
      "outputs": [
        {
          "output_type": "stream",
          "name": "stdout",
          "text": [
            "CAGR:14.62%\n",
            "MaxDD:-25.94%\n",
            "Win rate:84.82%\n"
          ]
        },
        {
          "output_type": "execute_result",
          "data": {
            "text/plain": [
              "<matplotlib.axes._subplots.AxesSubplot at 0x7f8ecf5f3e90>"
            ]
          },
          "metadata": {},
          "execution_count": 15
        },
        {
          "output_type": "display_data",
          "data": {
            "text/plain": [
              "<Figure size 432x288 with 1 Axes>"
            ],
            "image/png": "[encoded data removed]"
          },
          "metadata": {
            "needs_background": "light"
          }
        },
        {
          "output_type": "display_data",
          "data": {
            "text/plain": [
              "<Figure size 432x288 with 1 Axes>"
            ],
            "image/png": "[encoded data removed]"
          },
          "metadata": {
            "needs_background": "light"
          }
        },
        {
          "output_type": "display_data",
          "data": {
            "text/plain": [
              "<Figure size 432x288 with 1 Axes>"
            ],
            "image/png": "[encoded data removed]"
          },
          "metadata": {
            "needs_background": "light"
          }
        },
        {
          "output_type": "display_data",
          "data": {
            "text/plain": [
              "<Figure size 1440x432 with 2 Axes>"
            ],
            "image/png": "[encoded data removed]"
          },
          "metadata": {
            "needs_background": "light"
          }
        }
      ]
    },
    {
      "cell_type": "markdown",
      "source": [
        "**Screening and Execute Orders** <br>\n",
        "การกรองหุ้นตาม strategy ในแต่ละวันและส่งคำสั่งซื้อขายเข้าตลาดหลักทรัพย์"
      ],
      "metadata": {
        "id": "bY3K-MlNNsMl"
      }
    },
    {
      "cell_type": "code",
      "source": [
        "# Show Signal\n",
        "signal_df"
      ],
      "metadata": {
        "id": "_F5V8ydjNdpx",
        "colab": {
          "base_uri": "https://localhost:8080/",
          "height": 424
        },
        "outputId": "d98bf2ef-3fe7-4a3a-d6af-aa16be7c11d7"
      },
      "execution_count": null,
      "outputs": [
        {
          "output_type": "execute_result",
          "data": {
            "text/plain": [
              "             COM7     EA   GULF   HANA    KTB  PTTEP\n",
              "2018-01-03  False  False  False  False  False  False\n",
              "2018-01-04  False  False  False  False  False  False\n",
              "2018-01-05  False  False  False  False  False  False\n",
              "2018-01-08  False  False  False  False  False  False\n",
              "2018-01-09  False  False  False  False  False  False\n",
              "...           ...    ...    ...    ...    ...    ...\n",
              "2022-05-24  False  False  False  False   True   True\n",
              "2022-05-25  False  False  False  False   True   True\n",
              "2022-05-26  False  False  False  False   True   True\n",
              "2022-05-27  False  False  False  False   True   True\n",
              "2022-05-30  False  False  False  False   True   True\n",
              "\n",
              "[1070 rows x 6 columns]"
            ],
            "text/html": [
              "\n",
              "  <div id=\"df-36bfcbfe-42db-4388-9a76-e1e8c204a0f4\">\n",
              "    <div class=\"colab-df-container\">\n",
              "      <div>\n",
              "<style scoped>\n",
              "    .dataframe tbody tr th:only-of-type {\n",
              "        vertical-align: middle;\n",
              "    }\n",
              "\n",
              "    .dataframe tbody tr th {\n",
              "        vertical-align: top;\n",
              "    }\n",
              "\n",
              "    .dataframe thead th {\n",
              "        text-align: right;\n",
              "    }\n",
              "</style>\n",
              "<table border=\"1\" class=\"dataframe\">\n",
              "  <thead>\n",
              "    <tr style=\"text-align: right;\">\n",
              "      <th></th>\n",
              "      <th>COM7</th>\n",
              "      <th>EA</th>\n",
              "      <th>GULF</th>\n",
              "      <th>HANA</th>\n",
              "      <th>KTB</th>\n",
              "      <th>PTTEP</th>\n",
              "    </tr>\n",
              "  </thead>\n",
              "  <tbody>\n",
              "    <tr>\n",
              "      <th>2018-01-03</th>\n",
              "      <td>False</td>\n",
              "      <td>False</td>\n",
              "      <td>False</td>\n",
              "      <td>False</td>\n",
              "      <td>False</td>\n",
              "      <td>False</td>\n",
              "    </tr>\n",
              "    <tr>\n",
              "      <th>2018-01-04</th>\n",
              "      <td>False</td>\n",
              "      <td>False</td>\n",
              "      <td>False</td>\n",
              "      <td>False</td>\n",
              "      <td>False</td>\n",
              "      <td>False</td>\n",
              "    </tr>\n",
              "    <tr>\n",
              "      <th>2018-01-05</th>\n",
              "      <td>False</td>\n",
              "      <td>False</td>\n",
              "      <td>False</td>\n",
              "      <td>False</td>\n",
              "      <td>False</td>\n",
              "      <td>False</td>\n",
              "    </tr>\n",
              "    <tr>\n",
              "      <th>2018-01-08</th>\n",
              "      <td>False</td>\n",
              "      <td>False</td>\n",
              "      <td>False</td>\n",
              "      <td>False</td>\n",
              "      <td>False</td>\n",
              "      <td>False</td>\n",
              "    </tr>\n",
              "    <tr>\n",
              "      <th>2018-01-09</th>\n",
              "      <td>False</td>\n",
              "      <td>False</td>\n",
              "      <td>False</td>\n",
              "      <td>False</td>\n",
              "      <td>False</td>\n",
              "      <td>False</td>\n",
              "    </tr>\n",
              "    <tr>\n",
              "      <th>...</th>\n",
              "      <td>...</td>\n",
              "      <td>...</td>\n",
              "      <td>...</td>\n",
              "      <td>...</td>\n",
              "      <td>...</td>\n",
              "      <td>...</td>\n",
              "    </tr>\n",
              "    <tr>\n",
              "      <th>2022-05-24</th>\n",
              "      <td>False</td>\n",
              "      <td>False</td>\n",
              "      <td>False</td>\n",
              "      <td>False</td>\n",
              "      <td>True</td>\n",
              "      <td>True</td>\n",
              "    </tr>\n",
              "    <tr>\n",
              "      <th>2022-05-25</th>\n",
              "      <td>False</td>\n",
              "      <td>False</td>\n",
              "      <td>False</td>\n",
              "      <td>False</td>\n",
              "      <td>True</td>\n",
              "      <td>True</td>\n",
              "    </tr>\n",
              "    <tr>\n",
              "      <th>2022-05-26</th>\n",
              "      <td>False</td>\n",
              "      <td>False</td>\n",
              "      <td>False</td>\n",
              "      <td>False</td>\n",
              "      <td>True</td>\n",
              "      <td>True</td>\n",
              "    </tr>\n",
              "    <tr>\n",
              "      <th>2022-05-27</th>\n",
              "      <td>False</td>\n",
              "      <td>False</td>\n",
              "      <td>False</td>\n",
              "      <td>False</td>\n",
              "      <td>True</td>\n",
              "      <td>True</td>\n",
              "    </tr>\n",
              "    <tr>\n",
              "      <th>2022-05-30</th>\n",
              "      <td>False</td>\n",
              "      <td>False</td>\n",
              "      <td>False</td>\n",
              "      <td>False</td>\n",
              "      <td>True</td>\n",
              "      <td>True</td>\n",
              "    </tr>\n",
              "  </tbody>\n",
              "</table>\n",
              "<p>1070 rows × 6 columns</p>\n",
              "</div>\n",
              "      <button class=\"colab-df-convert\" onclick=\"convertToInteractive('df-36bfcbfe-42db-4388-9a76-e1e8c204a0f4')\"\n",
              "              title=\"Convert this dataframe to an interactive table.\"\n",
              "              style=\"display:none;\">\n",
              "        \n",
              "  <svg xmlns=\"http://www.w3.org/2000/svg\" height=\"24px\"viewBox=\"0 0 24 24\"\n",
              "       width=\"24px\">\n",
              "    <path d=\"M0 0h24v24H0V0z\" fill=\"none\"/>\n",
              "    <path d=\"M18.56 5.44l.94 2.06.94-2.06 2.06-.94-2.06-.94-.94-2.06-.94 2.06-2.06.94zm-11 1L8.5 8.5l.94-2.06 2.06-.94-2.06-.94L8.5 2.5l-.94 2.06-2.06.94zm10 10l.94 2.06.94-2.06 2.06-.94-2.06-.94-.94-2.06-.94 2.06-2.06.94z\"/><path d=\"M17.41 7.96l-1.37-1.37c-.4-.4-.92-.59-1.43-.59-.52 0-1.04.2-1.43.59L10.3 9.45l-7.72 7.72c-.78.78-.78 2.05 0 2.83L4 21.41c.39.39.9.59 1.41.59.51 0 1.02-.2 1.41-.59l7.78-7.78 2.81-2.81c.8-.78.8-2.07 0-2.86zM5.41 20L4 18.59l7.72-7.72 1.47 1.35L5.41 20z\"/>\n",
              "  </svg>\n",
              "      </button>\n",
              "      \n",
              "  <style>\n",
              "    .colab-df-container {\n",
              "      display:flex;\n",
              "      flex-wrap:wrap;\n",
              "      gap: 12px;\n",
              "    }\n",
              "\n",
              "    .colab-df-convert {\n",
              "      background-color: #E8F0FE;\n",
              "      border: none;\n",
              "      border-radius: 50%;\n",
              "      cursor: pointer;\n",
              "      display: none;\n",
              "      fill: #1967D2;\n",
              "      height: 32px;\n",
              "      padding: 0 0 0 0;\n",
              "      width: 32px;\n",
              "    }\n",
              "\n",
              "    .colab-df-convert:hover {\n",
              "      background-color: #E2EBFA;\n",
              "      box-shadow: 0px 1px 2px rgba(60, 64, 67, 0.3), 0px 1px 3px 1px rgba(60, 64, 67, 0.15);\n",
              "      fill: #174EA6;\n",
              "    }\n",
              "\n",
              "    [theme=dark] .colab-df-convert {\n",
              "      background-color: #3B4455;\n",
              "      fill: #D2E3FC;\n",
              "    }\n",
              "\n",
              "    [theme=dark] .colab-df-convert:hover {\n",
              "      background-color: #434B5C;\n",
              "      box-shadow: 0px 1px 3px 1px rgba(0, 0, 0, 0.15);\n",
              "      filter: drop-shadow(0px 1px 2px rgba(0, 0, 0, 0.3));\n",
              "      fill: #FFFFFF;\n",
              "    }\n",
              "  </style>\n",
              "\n",
              "      <script>\n",
              "        const buttonEl =\n",
              "          document.querySelector('#df-36bfcbfe-42db-4388-9a76-e1e8c204a0f4 button.colab-df-convert');\n",
              "        buttonEl.style.display =\n",
              "          google.colab.kernel.accessAllowed ? 'block' : 'none';\n",
              "\n",
              "        async function convertToInteractive(key) {\n",
              "          const element = document.querySelector('#df-36bfcbfe-42db-4388-9a76-e1e8c204a0f4');\n",
              "          const dataTable =\n",
              "            await google.colab.kernel.invokeFunction('convertToInteractive',\n",
              "                                                     [key], {});\n",
              "          if (!dataTable) return;\n",
              "\n",
              "          const docLinkHtml = 'Like what you see? Visit the ' +\n",
              "            '<a target=\"_blank\" href=https://colab.research.google.com/notebooks/data_table.ipynb>data table notebook</a>'\n",
              "            + ' to learn more about interactive tables.';\n",
              "          element.innerHTML = '';\n",
              "          dataTable['output_type'] = 'display_data';\n",
              "          await google.colab.output.renderOutput(dataTable, element);\n",
              "          const docLink = document.createElement('div');\n",
              "          docLink.innerHTML = docLinkHtml;\n",
              "          element.appendChild(docLink);\n",
              "        }\n",
              "      </script>\n",
              "    </div>\n",
              "  </div>\n",
              "  "
            ]
          },
          "metadata": {},
          "execution_count": 16
        }
      ]
    },
    {
      "cell_type": "code",
      "source": [
        "# Screen Stock that pass condition\n",
        "buy_signal = signal_df.iloc[-1][signal_df.iloc[-1]].index.tolist()\n",
        "buy_signal"
      ],
      "metadata": {
        "id": "biYT17AYO-J3",
        "colab": {
          "base_uri": "https://localhost:8080/"
        },
        "outputId": "2cfc4bbb-9d97-412b-92ae-9747057c6cf7"
      },
      "execution_count": null,
      "outputs": [
        {
          "output_type": "execute_result",
          "data": {
            "text/plain": [
              "['KTB', 'PTTEP']"
            ]
          },
          "metadata": {},
          "execution_count": 17
        }
      ]
    },
    {
      "cell_type": "code",
      "source": [
        "equity_account_info = equity.get_account_info()\n",
        "equity_portfolio = equity.get_portfolio()\n",
        "current_symbol_port = [i[\"symbol\"] for i in equity_portfolio[\"data\"]]\n",
        "cash = equity_account_info[\"data\"][\"cash_balance\"]\n",
        "market_value = sum(i[\"market_value\"] for i in equity_portfolio[\"data\"])\n",
        "port_value = cash + market_value\n",
        "\n",
        "# Buy 5% port value if symbol not in portfolio\n",
        "for s in buy_signal:\n",
        "    if s not in current_symbol_port:\n",
        "        price = [i[\"market_price\"] for i in equity_portfolio[\"data\"] if i[\"symbol\"]==s][0]\n",
        "        volume = int((port_value * 0.05 / price) // 100 * 100)\n",
        "        print(\"buy: \", s, \"@\",price, \" for \",volume)\n",
        "        place_order = equity.place_order(\n",
        "            symbol=s,\n",
        "            price=price,\n",
        "            volume=volume,\n",
        "            side=\"BUY\",\n",
        "            pin=\"000000\",\n",
        "        )\n",
        "        print(place_order)\n",
        "\n",
        "# Sell no signal stock\n",
        "for s in current_symbol_port:\n",
        "    if s not in buy_signal:\n",
        "        price = [i[\"market_price\"] for i in equity_portfolio[\"data\"] if i[\"symbol\"]==s][0]\n",
        "        volume = [i[\"current_volume\"] for i in equity_portfolio[\"data\"] if i[\"symbol\"]==s][0]\n",
        "        volume = int((volume) // 100 * 100)\n",
        "        print(\"sell: \", s, \"@\",price, \" for \",volume)\n",
        "        place_order = equity.place_order(\n",
        "            symbol=s,\n",
        "            price=price,\n",
        "            volume=volume,\n",
        "            side=\"SELL\",\n",
        "            pin=\"000000\",\n",
        "        )\n",
        "        print(place_order)"
      ],
      "metadata": {
        "id": "Slls0DsoQuAB",
        "colab": {
          "base_uri": "https://localhost:8080/"
        },
        "outputId": "447655df-fc44-4254-cf09-a0673121acae"
      },
      "execution_count": null,
      "outputs": [
        {
          "output_type": "stream",
          "name": "stdout",
          "text": [
            "sell:  AOT @ 72.25  for  100\n",
            "{'success': True, 'status_code': 200, 'data': {'order_no': '2YEGFJFJ3T'}, 'message': ''}\n",
            "sell:  SIRI @ 0.95  for  1000\n",
            "{'success': True, 'status_code': 200, 'data': {'order_no': '2YEGFK1R9D'}, 'message': ''}\n"
          ]
        }
      ]
    }
  ]
}