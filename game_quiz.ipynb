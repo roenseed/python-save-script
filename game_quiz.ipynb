{
  "nbformat": 4,
  "nbformat_minor": 0,
  "metadata": {
    "colab": {
      "provenance": [],
      "authorship_tag": "ABX9TyNk4QTS9wpKw65TNYsHb8in",
      "include_colab_link": true
    },
    "kernelspec": {
      "name": "python3",
      "display_name": "Python 3"
    },
    "language_info": {
      "name": "python"
    }
  },
  "cells": [
    {
      "cell_type": "markdown",
      "metadata": {
        "id": "view-in-github",
        "colab_type": "text"
      },
      "source": [
        "<a href=\"https://colab.research.google.com/github/roenseed/python-save-script/blob/main/game_quiz.ipynb\" target=\"_parent\"><img src=\"https://colab.research.google.com/assets/colab-badge.svg\" alt=\"Open In Colab\"/></a>"
      ]
    },
    {
      "cell_type": "code",
      "execution_count": null,
      "metadata": {
        "id": "0Plz4-pSiXtU"
      },
      "outputs": [],
      "source": [
        "# Author: Charoen Kasetruengphol\n",
        "\n",
        "questions = (\"How many elements are in the periodic table?: \",\n",
        "            \"Which animal lays in the largest eggs?: \",\n",
        "            \"What is the most abundant gas in Earth's atmotsphere?: \",\n",
        "            \"How many bones are in the human body?: \",\n",
        "            \"Which planet in the solar system is the hottest?: \")\n",
        "\n",
        "options = ((\"A. 116\", \"B. 117\", \"C. 118\", \"D. 119\"),\n",
        "          (\"A. Whale\", \"B. Crocodile\", \"C. Elephant\", \"D. Ostrich\"),\n",
        "          (\"A. Nitrogen\", \"B. Exygen\", \"C. Carbon-Dioxide\", \"D. Hydrogen\"),\n",
        "          (\"A. 206\", \"B. 207\", \"C. 208\", \"D. 209\"),\n",
        "          (\"A. Mercury\", \"B. Venus\", \"C. Earth\", \"D. Mars\"))\n",
        "\n",
        "answers = (\"C\", \"D\", \"A\", \"A\", \"B\")\n",
        "guesses = []\n",
        "score = 0\n",
        "questions_num = 0\n",
        "counter = 0\n",
        "\n",
        "for question in questions:\n",
        "    print(\"-----------------------\")\n",
        "    counter += 1\n",
        "    print(f\"{counter}. {question}\")\n",
        "    for option in options[questions_num]:\n",
        "        print(option)\n",
        "\n",
        "    guess = input(\"Enter (A, B, C, D): \").upper()\n",
        "    guesses.append(guess)\n",
        "    if guess == answers[questions_num]:\n",
        "        score += 1\n",
        "        print(\"CORRECT!\")\n",
        "    else:\n",
        "        print(\"INCORRECT!\")\n",
        "        print(f\"{answers[questions_num]} is correct answer\")\n",
        "\n",
        "    questions_num +=1\n",
        "\n",
        "print(\"-----------------\")\n",
        "print(\"     RESULT      \")\n",
        "print(\"-----------------\")\n",
        "\n",
        "\n",
        "print(\"answer: \", end=\"\")\n",
        "for answer in answers:\n",
        "    print(answer, end=\" \")\n",
        "print()\n",
        "\n",
        "print(\"answer: \", end=\"\")\n",
        "for guess in guesses:\n",
        "    print(guess, end=\" \")\n",
        "print()\n",
        "\n",
        "score = int((score / len(questions)) * 100)\n",
        "print(f\"Your Score is: {score} %\")"
      ]
    }
  ]
}